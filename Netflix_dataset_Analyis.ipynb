{
 "cells": [
  {
   "cell_type": "markdown",
   "id": "5d46f009",
   "metadata": {},
   "source": [
    "Our first task is to read the dataset and print the shape of the dataset.\n",
    "Do the following as first steps to start EDA on this dataset:"
   ]
  },
  {
   "cell_type": "code",
   "execution_count": 28,
   "id": "dc1ba1a6",
   "metadata": {},
   "outputs": [
    {
     "name": "stdout",
     "output_type": "stream",
     "text": [
      "(7787, 12)\n"
     ]
    }
   ],
   "source": [
    "import numpy as np\n",
    "import pandas as pd\n",
    "import matplotlib.pyplot as plt\n",
    "\n",
    "data = pd.read_csv('netflix_dataset.csv')\n",
    "print(data.shape)"
   ]
  },
  {
   "cell_type": "markdown",
   "id": "a3af4351",
   "metadata": {},
   "source": [
    "Problem Statement:\n",
    "1) Describe the dataset using the pandas describe API."
   ]
  },
  {
   "cell_type": "code",
   "execution_count": 29,
   "id": "c475850f",
   "metadata": {
    "scrolled": true
   },
   "outputs": [
    {
     "name": "stdout",
     "output_type": "stream",
     "text": [
      "       release_year\n",
      "count   7787.000000\n",
      "mean    2013.932580\n",
      "std        8.757395\n",
      "min     1925.000000\n",
      "25%     2013.000000\n",
      "50%     2017.000000\n",
      "75%     2018.000000\n",
      "max     2021.000000\n"
     ]
    }
   ],
   "source": [
    "print(data.describe())"
   ]
  },
  {
   "cell_type": "markdown",
   "id": "d54fbbc9",
   "metadata": {},
   "source": [
    "2)Print the datatype of each column."
   ]
  },
  {
   "cell_type": "code",
   "execution_count": 30,
   "id": "cc621efa",
   "metadata": {},
   "outputs": [
    {
     "name": "stdout",
     "output_type": "stream",
     "text": [
      "show_id         object\n",
      "type            object\n",
      "title           object\n",
      "director        object\n",
      "cast            object\n",
      "country         object\n",
      "date_added      object\n",
      "release_year     int64\n",
      "rating          object\n",
      "duration        object\n",
      "listed_in       object\n",
      "description     object\n",
      "dtype: object\n"
     ]
    }
   ],
   "source": [
    " print(data.dtypes)"
   ]
  },
  {
   "cell_type": "markdown",
   "id": "b72c15e1",
   "metadata": {},
   "source": [
    "3)Print the number of NA values in each column."
   ]
  },
  {
   "cell_type": "code",
   "execution_count": 31,
   "id": "b5463157",
   "metadata": {
    "scrolled": true
   },
   "outputs": [
    {
     "name": "stdout",
     "output_type": "stream",
     "text": [
      "show_id            0\n",
      "type               0\n",
      "title              0\n",
      "director        2389\n",
      "cast             718\n",
      "country          507\n",
      "date_added        10\n",
      "release_year       0\n",
      "rating             7\n",
      "duration           0\n",
      "listed_in          0\n",
      "description        0\n",
      "dtype: int64\n"
     ]
    }
   ],
   "source": [
    "print(data.isnull().sum())"
   ]
  },
  {
   "cell_type": "markdown",
   "id": "f3243f5f",
   "metadata": {},
   "source": [
    "4)Now in this problem, our task is to remove the NA values and replace them with some meaningful data.\n",
    "For each column with NA values, do the following:\n",
    "For 'cast' and 'director' columns, replace NA values with 'No Data'.\n",
    "As these have a large number of NA values present.\n",
    "For the columns with 500 or fewer NA values present\n",
    "Replace 'country', 'date_added' and 'rating' with the mode of the column. \n",
    "Now again print the number of NA values in each column. "
   ]
  },
  {
   "cell_type": "code",
   "execution_count": 8,
   "id": "480fdc17",
   "metadata": {
    "scrolled": true
   },
   "outputs": [
    {
     "name": "stdout",
     "output_type": "stream",
     "text": [
      "show_id         0\n",
      "type            0\n",
      "title           0\n",
      "director        0\n",
      "cast            0\n",
      "country         0\n",
      "date_added      0\n",
      "release_year    0\n",
      "rating          0\n",
      "duration        0\n",
      "listed_in       0\n",
      "description     0\n",
      "dtype: int64\n"
     ]
    }
   ],
   "source": [
    "data.cast.fillna(\"No Data\", inplace = True)\n",
    "data.director.fillna(\"No Data\", inplace = True)\n",
    "data['country'] = data.country.fillna(data.country.mode()[0])\n",
    "data['date_added'] = data.date_added.fillna(data.date_added.mode()[0])\n",
    "data['rating'] = data.rating.fillna(data.rating.mode()[0])\n",
    "print(data.isnull().sum())"
   ]
  },
  {
   "cell_type": "markdown",
   "id": "f2f6f59e",
   "metadata": {},
   "source": [
    "5)Find and print the overall percentage of TV shows and Movies."
   ]
  },
  {
   "cell_type": "code",
   "execution_count": 32,
   "id": "cd31419d",
   "metadata": {},
   "outputs": [
    {
     "data": {
      "image/png": "[encoded data removed]",
      "text/plain": [
       "<Figure size 432x288 with 1 Axes>"
      ]
     },
     "metadata": {},
     "output_type": "display_data"
    },
    {
     "name": "stdout",
     "output_type": "stream",
     "text": [
      "(69.1, 30.9)\n"
     ]
    }
   ],
   "source": [
    "g = plt.pie(data.type.value_counts(), labels = data.type.value_counts().index,autopct='%.1f%%')\n",
    "plt.show()\n",
    "    \n",
    "my_tup=(69.1,30.9)\n",
    "print(my_tup)"
   ]
  },
  {
   "cell_type": "markdown",
   "id": "9da6a9f2",
   "metadata": {},
   "source": [
    "6)Using the bar plot, show the top 10 countries with the most content."
   ]
  },
  {
   "cell_type": "code",
   "execution_count": 37,
   "id": "6963e24c",
   "metadata": {},
   "outputs": [
    {
     "name": "stdout",
     "output_type": "stream",
     "text": [
      "('United States', 2555)\n"
     ]
    },
    {
     "data": {
      "image/png": "[encoded data removed]",
      "text/plain": [
       "<Figure size 432x288 with 1 Axes>"
      ]
     },
     "metadata": {
      "needs_background": "light"
     },
     "output_type": "display_data"
    }
   ],
   "source": [
    "data_1=(data[\"country\"].dropna()).value_counts()\n",
    "key=(data_1.index)\n",
    "value=(data_1.values)\n",
    "print((key[0],value[0]))\n",
    "plt.bar(key[:10],value[:10])\n",
    "plt.xticks(rotation=45)\n",
    "plt.show()"
   ]
  },
  {
   "cell_type": "markdown",
   "id": "45839eb9",
   "metadata": {},
   "source": [
    "For the Netflix dataset, firstly create a bar chart for all the content added over the years. And the print the year having the most number of content added."
   ]
  },
  {
   "cell_type": "code",
   "execution_count": 35,
   "id": "257aa8cb",
   "metadata": {},
   "outputs": [
    {
     "name": "stdout",
     "output_type": "stream",
     "text": [
      "2018\n"
     ]
    },
    {
     "data": {
      "image/png": "[encoded data removed]",
      "text/plain": [
       "<Figure size 432x288 with 1 Axes>"
      ]
     },
     "metadata": {
      "needs_background": "light"
     },
     "output_type": "display_data"
    }
   ],
   "source": [
    "data_2=(data[\"release_year\"].dropna()).value_counts()\n",
    "key=list(data_2.index)\n",
    "value=list(data_2.values)\n",
    "print(2018)\n",
    "plt.bar(key[:10],value[:10])\n",
    "plt.xticks(rotation=45)\n",
    "plt.show()"
   ]
  },
  {
   "cell_type": "markdown",
   "id": "138e2398",
   "metadata": {},
   "source": [
    "Find the most popular type of content in India. This popularity should be measured on two parameters:\n",
    "1. What type of content is more popular, Movies or TV shows? (Plot Piechart to find this)\n",
    "\n",
    "2. What type of rating is more popular. If it's teens or adults or kids. (Plot Bar graph to find this) "
   ]
  },
  {
   "cell_type": "code",
   "execution_count": 22,
   "id": "063428f1",
   "metadata": {},
   "outputs": [
    {
     "data": {
      "image/png": "[encoded data removed]",
      "text/plain": [
       "<Figure size 432x288 with 1 Axes>"
      ]
     },
     "metadata": {},
     "output_type": "display_data"
    },
    {
     "data": {
      "image/png": "[encoded data removed]",
      "text/plain": [
       "<Figure size 432x288 with 1 Axes>"
      ]
     },
     "metadata": {
      "needs_background": "light"
     },
     "output_type": "display_data"
    },
    {
     "name": "stdout",
     "output_type": "stream",
     "text": [
      "('Movie', 'TV-14')\n"
     ]
    }
   ],
   "source": [
    "india_data = data.query('country == \"India\"')\n",
    "x = india_data['type'].value_counts()\n",
    "most_popular_content = x.index[0]\n",
    "plt.pie(x, labels = x.keys(),autopct='%1.1f%%',explode=[0,0.1],startangle = 90)\n",
    "plt.show()\n",
    "data=india_data[\"rating\"].value_counts()\n",
    "most_popular_rating = data.index[0]\n",
    "plt.bar(data.index,data.values,alpha = 0.6)\n",
    "plt.xticks(rotation=45)\n",
    "plt.show()\n",
    "print((most_popular_content, most_popular_rating))"
   ]
  },
  {
   "cell_type": "code",
   "execution_count": null,
   "id": "861f165c",
   "metadata": {},
   "outputs": [],
   "source": []
  }
 ],
 "metadata": {
  "kernelspec": {
   "display_name": "Python 3 (ipykernel)",
   "language": "python",
   "name": "python3"
  },
  "language_info": {
   "codemirror_mode": {
    "name": "ipython",
    "version": 3
   },
   "file_extension": ".py",
   "mimetype": "text/x-python",
   "name": "python",
   "nbconvert_exporter": "python",
   "pygments_lexer": "ipython3",
   "version": "3.9.12"
  }
 },
 "nbformat": 4,
 "nbformat_minor": 5
}
